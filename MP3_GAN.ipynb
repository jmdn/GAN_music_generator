{
  "nbformat": 4,
  "nbformat_minor": 0,
  "metadata": {
    "colab": {
      "name": "MP3_GAN.ipynb",
      "provenance": [],
      "include_colab_link": true
    },
    "kernelspec": {
      "name": "python3",
      "display_name": "Python 3"
    },
    "accelerator": "GPU"
  },
  "cells": [
    {
      "cell_type": "markdown",
      "metadata": {
        "id": "view-in-github",
        "colab_type": "text"
      },
      "source": [
        "<a href=\"https://colab.research.google.com/github/jmdn/GAN_music_generator/blob/master/MP3_GAN.ipynb\" target=\"_parent\"><img src=\"https://colab.research.google.com/assets/colab-badge.svg\" alt=\"Open In Colab\"/></a>"
      ]
    },
    {
      "cell_type": "code",
      "metadata": {
        "id": "UxB8dF9QmU_y",
        "colab_type": "code",
        "outputId": "adbf6835-ef39-4ef2-f1cc-99ce2bb216c3",
        "colab": {
          "base_uri": "https://localhost:8080/",
          "height": 122
        }
      },
      "source": [
        "from google.colab import drive\n",
        "drive.mount('/content/drive/')"
      ],
      "execution_count": 0,
      "outputs": [
        {
          "output_type": "stream",
          "text": [
            "Go to this URL in a browser: https://accounts.google.com/o/oauth2/auth?client_id=947318989803-6bn6qk8qdgf4n4g3pfee6491hc0brc4i.apps.googleusercontent.com&redirect_uri=urn%3Aietf%3Awg%3Aoauth%3A2.0%3Aoob&scope=email%20https%3A%2F%2Fwww.googleapis.com%2Fauth%2Fdocs.test%20https%3A%2F%2Fwww.googleapis.com%2Fauth%2Fdrive%20https%3A%2F%2Fwww.googleapis.com%2Fauth%2Fdrive.photos.readonly%20https%3A%2F%2Fwww.googleapis.com%2Fauth%2Fpeopleapi.readonly&response_type=code\n",
            "\n",
            "Enter your authorization code:\n",
            "··········\n",
            "Mounted at /content/drive/\n"
          ],
          "name": "stdout"
        }
      ]
    },
    {
      "cell_type": "code",
      "metadata": {
        "id": "QU_PC7klmziT",
        "colab_type": "code",
        "outputId": "5fe030d1-80b6-48f7-d27c-fe33aaebb088",
        "colab": {
          "base_uri": "https://localhost:8080/",
          "height": 241
        }
      },
      "source": [
        "!pip install torchaudio\n",
        "import torchaudio"
      ],
      "execution_count": 0,
      "outputs": [
        {
          "output_type": "stream",
          "text": [
            "Collecting torchaudio\n",
            "\u001b[?25l  Downloading https://files.pythonhosted.org/packages/1a/57/304a22c70b33617334ff4361a82af5059c3adbb842d203e116a468277c11/torchaudio-0.3.0-cp36-cp36m-manylinux1_x86_64.whl (2.6MB)\n",
            "\u001b[K     |████████████████████████████████| 2.6MB 6.7MB/s \n",
            "\u001b[?25hCollecting torch==1.2.0 (from torchaudio)\n",
            "\u001b[?25l  Downloading https://files.pythonhosted.org/packages/30/57/d5cceb0799c06733eefce80c395459f28970ebb9e896846ce96ab579a3f1/torch-1.2.0-cp36-cp36m-manylinux1_x86_64.whl (748.8MB)\n",
            "\u001b[K     |████████████████████████████████| 748.9MB 19kB/s \n",
            "\u001b[?25hRequirement already satisfied: numpy in /usr/local/lib/python3.6/dist-packages (from torch==1.2.0->torchaudio) (1.16.4)\n",
            "Installing collected packages: torch, torchaudio\n",
            "  Found existing installation: torch 1.1.0\n",
            "    Uninstalling torch-1.1.0:\n",
            "      Successfully uninstalled torch-1.1.0\n",
            "Successfully installed torch-1.2.0 torchaudio-0.3.0\n"
          ],
          "name": "stdout"
        }
      ]
    },
    {
      "cell_type": "code",
      "metadata": {
        "id": "YUDBVoWUmz5j",
        "colab_type": "code",
        "colab": {}
      },
      "source": [
        "#mp3 file of song used for training the discriminator\n",
        "sound, sample_rate = torchaudio.load('/content/drive/My Drive/Colab Notebooks/Take_The_Veil_Cerpin_Taxt.mp3')\n"
      ],
      "execution_count": 0,
      "outputs": []
    },
    {
      "cell_type": "code",
      "metadata": {
        "id": "TQAiEM5jnYbD",
        "colab_type": "code",
        "colab": {}
      },
      "source": [
        "import numpy as np\n",
        "import random\n",
        "import torch"
      ],
      "execution_count": 0,
      "outputs": []
    },
    {
      "cell_type": "code",
      "metadata": {
        "id": "aDD8zfP9s1Y-",
        "colab_type": "code",
        "colab": {}
      },
      "source": [
        "import torch.nn\n",
        "import torch.nn.functional as nn\n",
        "import torch.autograd as autograd\n",
        "import torch.optim as optim\n",
        "import numpy as np\n",
        "import matplotlib.pyplot as plt\n",
        "import matplotlib.gridspec as gridspec\n",
        "import os\n",
        "from torch.autograd import Variable"
      ],
      "execution_count": 0,
      "outputs": []
    },
    {
      "cell_type": "code",
      "metadata": {
        "id": "fftFxc0WqHPM",
        "colab_type": "code",
        "outputId": "989bfd86-fe54-46b3-ca81-c6debd255742",
        "colab": {
          "base_uri": "https://localhost:8080/",
          "height": 155
        }
      },
      "source": [
        "mb_size = 25\n",
        "z_dim = 100\n",
        "\n",
        "X_dim = 40000\n",
        "\n",
        "conv1 = 10\n",
        "kern1 = 4\n",
        "stride1 = 10\n",
        "h_dim = 100\n",
        "h_dimG = 100\n",
        "cnt = 0\n",
        "lr = 1e-4\n",
        "\n",
        "dtype = torch.FloatTensor\n",
        "\n",
        "\n",
        "G = torch.nn.Sequential(\n",
        "    torch.nn.ConvTranspose1d(in_channels=1, out_channels=1, kernel_size = kern1, stride = stride1),\n",
        "    torch.nn.ReLU(),\n",
        "    torch.nn.Linear(994, h_dimG),\n",
        "    torch.nn.ReLU(),\n",
        "    #torch.nn.BatchNorm1d(h_dim),\n",
        "    torch.nn.Linear(h_dimG, X_dim),\n",
        "    torch.nn.Sigmoid()\n",
        ")\n",
        "\n",
        "\n",
        "D = torch.nn.Sequential(\n",
        "    #torch.nn.Conv1d(in_channels=1, out_channels=2, kernel_size = kern1, stride = stride1),\n",
        "    torch.nn.ReLU(),\n",
        "    torch.nn.Linear(X_dim, h_dim),\n",
        "    torch.nn.ReLU(),\n",
        "    #torch.nn.BatchNorm1d(h_dim),\n",
        "    torch.nn.Linear(h_dim, 1),\n",
        ")\n",
        "\n",
        "#G.cuda()\n",
        "#D.cuda()\n",
        "\n",
        "\n",
        "def reset_grad():\n",
        "    G.zero_grad()\n",
        "    D.zero_grad()\n",
        "\n",
        "\n",
        "G_solver = optim.RMSprop(G.parameters(), lr=lr)\n",
        "D_solver = optim.RMSprop(D.parameters(), lr=lr)\n",
        "\n",
        "\n",
        "\n",
        "for it in range(10000):\n",
        "    \n",
        "    #for data in train_data_gen:\n",
        "    for itt in range(10):\n",
        "        #inputs, labels = data\n",
        "        # Sample data\n",
        "        \n",
        "        #data = next(iter(train_data_gen))\n",
        "        z = Variable(torch.randn(mb_size, 1, z_dim))\n",
        "        #z = Variable(z.cuda())\n",
        "        \n",
        "        clip_stack = []\n",
        "        for x in range(25):\n",
        "          start_c = random.randint(1,22007720)\n",
        "          end_c = start_c + 20000\n",
        "          clip = sound[:,start_c:end_c]\n",
        "          clip = clip.reshape(1,40000)\n",
        "          clip_stack.append(clip)\n",
        "        X = torch.stack(clip_stack)\n",
        "        \n",
        "\n",
        "        \n",
        "        X = np.reshape(X, (25, 1, 40000))\n",
        "        \n",
        "        \n",
        "\n",
        "        # Dicriminator forward-loss-backward-update\n",
        "        #print(np.shape(z))\n",
        "        G_sample = G(z)\n",
        "        #print(np.shape(G_sample))\n",
        "        #G_sample = np.reshape(G_sample, (25, 1, 80000))\n",
        "        D_real = D(X)\n",
        "        D_fake = D(G_sample)\n",
        "\n",
        "        D_loss = -(torch.mean(D_real) - torch.mean(D_fake))\n",
        "\n",
        "        D_loss.backward()\n",
        "        D_solver.step()\n",
        "\n",
        "        # Weight clipping\n",
        "        for p in D.parameters():\n",
        "            p.data.clamp_(-0.01, 0.01)\n",
        "\n",
        "        # Housekeeping - reset gradient\n",
        "        reset_grad()\n",
        "\n",
        "    # Generator forward-loss-backward-update\n",
        "    X = torch.stack(clip_stack)\n",
        "    #X = Variable(torch.from_numpy(X))\n",
        "    \n",
        "    clip_stack = []\n",
        "    for x in range(25):\n",
        "      #selects random clips from mp3 file\n",
        "      start_c = random.randint(1,22007720)\n",
        "      end_c = start_c + 20000\n",
        "      clip = sound[:,start_c:end_c]\n",
        "      clip = clip.reshape(1,40000)\n",
        "      clip_stack.append(clip)\n",
        "    X = torch.stack(clip_stack)\n",
        "    \n",
        "    X = np.reshape(X, (25, 1, 40000))\n",
        "    #X = Variable(X.cuda())\n",
        "    z = Variable(torch.randn(mb_size, 1, z_dim))\n",
        "    #z = Variable(z.cuda())\n",
        "\n",
        "    G_sample = G(z)\n",
        "    \n",
        "    \n",
        "    D_fake = D(G_sample)\n",
        "\n",
        "    G_loss = -torch.mean(D_fake)\n",
        "\n",
        "    G_loss.backward()\n",
        "    G_solver.step()\n",
        "\n",
        "    # Housekeeping - reset gradient\n",
        "    reset_grad()\n",
        "\n",
        "    # Print and plot every now and then\n",
        "    if it % 10 == 0:\n",
        "        \n",
        "        \n",
        "        print('Iter-{}; D_loss: {}; G_loss: {}'\n",
        "              .format(it, D_loss.data.cpu().numpy(), G_loss.data.cpu().numpy()))\n",
        "\n",
        "\n",
        "        examp = G_sample.cpu().detach().numpy()[0]\n",
        "        plt.imshow(examp.reshape(1, 40000))\n",
        "        plt.show()\n",
        "        print(np.shape(examp))\n",
        "        examp = examp.reshape(2,20000)\n",
        "        \n",
        "        torch_ex_float_tensor = torch.from_numpy(examp)\n",
        "        #print(examp.reshape(4, 50))\n",
        "        #imageio.imwrite('/disk1/pore_data/jeff_saved/aptamer_gen/generative_model_test/test_gen_DNA_new_'+str(it)+'.png', examp.reshape(4, 50))\n",
        "        torchaudio.save('/content/drive/My Drive/Colab Notebooks/Mp3_stuff/training_mp3s/generated_clip_ConvTrans_' + str(it) +  '.mp3', torch_ex_float_tensor, sample_rate)\n"
      ],
      "execution_count": 0,
      "outputs": [
        {
          "output_type": "stream",
          "text": [
            "Iter-0; D_loss: -12.482242584228516; G_loss: 16.59589958190918\n"
          ],
          "name": "stdout"
        },
        {
          "output_type": "display_data",
          "data": {
            "image/png": "[encoded data removed]",
            "text/plain": [
              "<Figure size 432x288 with 1 Axes>"
            ]
          },
          "metadata": {
            "tags": []
          }
        },
        {
          "output_type": "stream",
          "text": [
            "(1, 40000)\n",
            "Iter-10; D_loss: -44.348106384277344; G_loss: 58.21223449707031\n"
          ],
          "name": "stdout"
        },
        {
          "output_type": "display_data",
          "data": {
            "image/png": "[encoded data removed]",
            "text/plain": [
              "<Figure size 432x288 with 1 Axes>"
            ]
          },
          "metadata": {
            "tags": []
          }
        },
        {
          "output_type": "stream",
          "text": [
            "(1, 40000)\n"
          ],
          "name": "stdout"
        }
      ]
    }
  ]
}